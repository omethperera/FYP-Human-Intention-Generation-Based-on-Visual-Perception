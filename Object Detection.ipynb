{
 "cells": [
  {
   "cell_type": "code",
   "execution_count": 1,
   "id": "d87efeed-09de-456c-a9d9-f9f73def747e",
   "metadata": {},
   "outputs": [
    {
     "name": "stdout",
     "output_type": "stream",
     "text": [
      "Error: Could not open camera.\n",
      "Error: Could not read frame.\n",
      "Final counts of detected objects: [0, 0, 0, 0, 0, 0, 0, 0, 0, 0, 0, 0, 0, 0, 0, 0, 0, 0, 0, 0, 0, 0, 0, 0, 0, 0, 0, 0, 0, 0, 0, 0, 0, 0, 0, 0, 0, 0, 0, 0, 0, 0, 0]\n"
     ]
    }
   ],
   "source": [
    "from ultralytics import YOLO\n",
    "import cv2\n",
    "import time\n",
    "\n",
    "# Load the model\n",
    "model = YOLO('best.pt')\n",
    "\n",
    "# Open a connection to the camera\n",
    "cap = cv2.VideoCapture(0)  # Change the argument to 1 or another number if you have multiple cameras\n",
    "\n",
    "if not cap.isOpened():\n",
    "    print(\"Error: Could not open camera.\")\n",
    "    exit()\n",
    "\n",
    "# Initialize the array to store counts for each class\n",
    "object_counts = [0] * 43  # Assuming 43 object classes\n",
    "\n",
    "while True:\n",
    "    # Capture frame-by-frame\n",
    "    ret, frame = cap.read()\n",
    "    if not ret:\n",
    "        print(\"Error: Could not read frame.\")\n",
    "        break\n",
    "\n",
    "    # Perform detection\n",
    "    result = model([frame])\n",
    "\n",
    "    # Initialize list to store detected boxes and labels\n",
    "    detect = []\n",
    "\n",
    "    # Iterate over detected boxes\n",
    "    for box in result[0].boxes:\n",
    "        if box.conf[0].item() > 0.00:\n",
    "            cords = box.xyxy[0].tolist()\n",
    "            cords = [round(x) for x in cords]\n",
    "            x1, y1, x2, y2 = cords\n",
    "\n",
    "            # Get the label\n",
    "            label1 = box.cls[0].item()  # `box.cls` contains the class index\n",
    "\n",
    "            # Convert class index to class name if available\n",
    "            class_names = [\n",
    "                \"Person\", \"Safety signs/ Text signs\", \"Lab Table 1 (Electrical)\", \n",
    "                \"Lab Table 2 (Mechanical)\", \"Lab Chair 1 (Wooden)\", \"Lab Chair 2 (Stool)\", \n",
    "                \"3D Printer\", \"Oscilloscope\", \"Signal Generator\", \"Power Supply\", \n",
    "                \"TV\", \"PC\", \"Robot Manipulator\", \"Whiteboard\", \"Factory Automation Plant\", \n",
    "                \"Cupboards\", \"Laptop\", \"A/C\", \"Probes\", \"Plug Points\", \"Plants\", \n",
    "                \"Prototype 1 (HEALE)\", \"Prototype 2\", \"Lecture Table\", \"Lecture Chair 1 (Blue)\", \n",
    "                \"Lecture Chair 2 (With Hand Rest)\", \"Projector\", \"Stage\", \"Podium\", \n",
    "                \"Smartboard\", \"Speakers\", \"Pitch\", \"Stumps\", \"Goalpost\", \"Bats\", \n",
    "                \"Trees\", \"Roads\", \"Buildings\", \"Vehicles\", \"Tele Post\", \"Gate\", \n",
    "                \"Fence\", \"Satellite\"\n",
    "            ]\n",
    "            \n",
    "            # Increment the count for the detected class\n",
    "            object_counts[int(label1)] += 1\n",
    "\n",
    "            # Add the detected box and label to the list\n",
    "            class_name = class_names[int(label1)]\n",
    "            detect.append((x1, y1, x2, y2, class_name))\n",
    "\n",
    "    # Draw bounding boxes with labels\n",
    "    for (x1, y1, x2, y2, class_name) in detect:\n",
    "        # Draw the bounding box\n",
    "        cv2.rectangle(frame, (x1, y1), (x2, y2), color=(0, 0, 255), thickness=2)\n",
    "\n",
    "        # Create the label text\n",
    "        label_text = f\"{class_name}\"\n",
    "\n",
    "        # Choose a font and calculate the label size\n",
    "        font = cv2.FONT_HERSHEY_SIMPLEX\n",
    "        font_scale = 0.5\n",
    "        font_thickness = 1\n",
    "        label_size = cv2.getTextSize(label_text, font, font_scale, font_thickness)[0]\n",
    "\n",
    "        # Set the label background\n",
    "        label_background = (x1, y1 - label_size[1] - 10, x1 + label_size[0], y1)\n",
    "        cv2.rectangle(frame, (label_background[0], label_background[1]), (label_background[2], label_background[3]), (0, 0, 255), -1)\n",
    "\n",
    "        # Put the label text above the bounding box\n",
    "        cv2.putText(frame, label_text, (x1, y1 - 5), font, font_scale, (255, 255, 255), font_thickness)\n",
    "\n",
    "    # Display the resulting frame\n",
    "    cv2.imshow('Real-time Detection', frame)\n",
    "\n",
    "    # Wait for 1 second\n",
    "    if cv2.waitKey(1) & 0xFF == ord('q'):\n",
    "        break\n",
    "    time.sleep(1)\n",
    "\n",
    "# When everything is done, release the capture and close the window\n",
    "cap.release()\n",
    "cv2.destroyAllWindows()\n",
    "\n",
    "# Print the final count of each object\n",
    "print(\"Final counts of detected objects:\", object_counts)\n"
   ]
  },
  {
   "cell_type": "code",
   "execution_count": 2,
   "id": "96dd5257-fd9a-4dd7-b0c4-f468af7b3c43",
   "metadata": {},
   "outputs": [
    {
     "name": "stdout",
     "output_type": "stream",
     "text": [
      "\n",
      "0: 480x640 2 Persons, 2 Lab_Tables_02_Mechas, 6 Lab_Chair_02_Stools, 1 3D_Printer, 3 Oscilloscopes, 1 Robot_Manipulator, 68.6ms\n",
      "Speed: 0.0ms preprocess, 68.6ms inference, 0.0ms postprocess per image at shape (1, 3, 480, 640)\n",
      "Image saved as labeled_image.jpg\n",
      "Object Count Array: [2, 0, 0, 2, 0, 5, 1, 2, 0, 0, 0, 0, 0, 0, 0, 0, 0, 0, 0, 0, 0, 0, 0, 0, 0, 0, 0, 0, 0, 0, 0, 0, 0, 0, 0, 0, 0, 0, 0, 0, 0, 0, 0]\n"
     ]
    }
   ],
   "source": [
    "from ultralytics import YOLO\n",
    "import cv2\n",
    "import numpy as np\n",
    "\n",
    "# Load the model\n",
    "model = YOLO('best.pt')\n",
    "\n",
    "# Read the image\n",
    "img = cv2.imread(\"img.jpg\")\n",
    "\n",
    "# Perform detection\n",
    "result = model([img])\n",
    "\n",
    "# Initialize list to store detected boxes and labels\n",
    "detect = []\n",
    "\n",
    "# Initialize array for object count (43 classes, all set to 0 initially)\n",
    "object_count = [0] * 43\n",
    "\n",
    "# Iterate over detected boxes\n",
    "for box in result[0].boxes:\n",
    "    if box.conf[0].item() > 0.50:  # Confidence threshold\n",
    "        cords = box.xyxy[0].tolist()\n",
    "        cords = [round(x) for x in cords]\n",
    "        x1, y1, x2, y2 = cords\n",
    "        \n",
    "        # Get the label (class index)\n",
    "        label1 = box.cls[0].item()\n",
    "\n",
    "        # Convert class index to class name if available\n",
    "        class_names = [\n",
    "                \"Person\", \"Safety signs/ Text signs\", \"Lab Table 1 (Electrical)\", \n",
    "                \"Lab Table 2 (Mechanical)\", \"Lab Chair 1 (Wooden)\", \"Lab Chair 2 (Stool)\", \n",
    "                \"3D Printer\", \"Oscilloscope\", \"Signal Generator\", \"Power Supply\", \n",
    "                \"TV\", \"PC\", \"Robot Manipulator\", \"Whiteboard\", \"Factory Automation Plant\", \n",
    "                \"Cupboards\", \"Laptop\", \"A/C\", \"Probes\", \"Plug Points\", \"Plants\", \n",
    "                \"Prototype 1 (HEALE)\", \"Prototype 2\", \"Lecture Table\", \"Lecture Chair 1 (Blue)\", \n",
    "                \"Lecture Chair 2 (With Hand Rest)\", \"Projector\", \"Stage\", \"Podium\", \n",
    "                \"Smartboard\", \"Speakers\", \"Pitch\", \"Stumps\", \"Goalpost\", \"Bats\", \n",
    "                \"Trees\", \"Roads\", \"Buildings\", \"Vehicles\", \"Tele Post\", \"Gate\", \n",
    "                \"Fence\", \"Satellite\"\n",
    "            ]\n",
    "        \n",
    "        # Class name\n",
    "        class_name = class_names[int(label1)]\n",
    "        \n",
    "        # Increment the object count for the detected class\n",
    "        object_count[int(label1)] += 1\n",
    "\n",
    "        # Add the detected box and label to the list\n",
    "        detect.append((x1, y1, x2, y2, class_name))\n",
    "\n",
    "# Draw bounding boxes with labels\n",
    "for (x1, y1, x2, y2, class_name) in detect:\n",
    "    # Draw the bounding box\n",
    "    cv2.rectangle(img, (x1, y1), (x2, y2), color=(0, 0, 255), thickness=2)\n",
    "    \n",
    "    # Create the label text\n",
    "    label_text = f\"{class_name}\"\n",
    "    \n",
    "    # Choose a font and calculate the label size\n",
    "    font = cv2.FONT_HERSHEY_SIMPLEX\n",
    "    font_scale = 0.5\n",
    "    font_thickness = 1\n",
    "    label_size = cv2.getTextSize(label_text, font, font_scale, font_thickness)[0]\n",
    "    \n",
    "    # Set the label background\n",
    "    label_background = (x1, y1 - label_size[1] - 10, x1 + label_size[0], y1)\n",
    "    cv2.rectangle(img, (label_background[0], label_background[1]), (label_background[2], label_background[3]), (0, 0, 255), -1)\n",
    "    \n",
    "    # Put the label text above the bounding box\n",
    "    cv2.putText(img, label_text, (x1, y1 - 5), font, font_scale, (255, 255, 255), font_thickness)\n",
    "\n",
    "# Save the labeled image\n",
    "# cv2.imwrite(\"labeled_img.jpg\", img)\n",
    "cv2.imwrite('labeled_image.jpg', img)\n",
    "print(\"Image saved as labeled_image.jpg\")\n",
    "\n",
    "# Display the object count array\n",
    "print(\"Object Count Array:\", object_count)\n",
    "\n",
    "# # Optionally display the image (if needed)\n",
    "# cv2.imshow('Labeled Image', img)\n",
    "# cv2.waitKey(0)\n",
    "# cv2.destroyAllWindows()\n"
   ]
  },
  {
   "cell_type": "code",
   "execution_count": 1,
   "id": "43ee8a82-2f4c-40f6-8cc8-c24b615fd797",
   "metadata": {},
   "outputs": [
    {
     "name": "stdout",
     "output_type": "stream",
     "text": [
      "Model loaded successfully from model.keras!\n"
     ]
    }
   ],
   "source": [
    "from keras.models import load_model\n",
    "\n",
    "# Load the model from the .keras file\n",
    "model = load_model('model-1000.keras')\n",
    "\n",
    "print(\"Model loaded successfully from model.keras!\")\n"
   ]
  },
  {
   "cell_type": "code",
   "execution_count": 2,
   "id": "c6994897-8d13-4a12-bc12-b5ece3e0332a",
   "metadata": {},
   "outputs": [
    {
     "name": "stdout",
     "output_type": "stream",
     "text": [
      "\u001b[1m1/1\u001b[0m \u001b[32m━━━━━━━━━━━━━━━━━━━━\u001b[0m\u001b[37m\u001b[0m \u001b[1m0s\u001b[0m 168ms/step\n",
      "[[6.7626795e-04 1.8662986e-04 1.7227743e-04 9.9896240e-01 2.4069195e-06]]\n"
     ]
    }
   ],
   "source": [
    "import numpy as np\n",
    "object_count = [2, 0, 0, 2, 0, 5, 1, 2, 0, 0, 0, 0, 0, 0, 0, 0, 0, 0, 0, 0, 0, 0, 0, 0, 0, 0, 0, 0, 0, 0, 0, 0, 0, 0, 0, 0, 0, 0, 0, 0, 0, 0, 0]\n",
    "test_data_1=np.array(object_count).reshape(1,-1)\n",
    "\n",
    "predicted_target_1=model.predict(test_data_1)\n",
    "print(predicted_target_1)"
   ]
  },
  {
   "cell_type": "code",
   "execution_count": 3,
   "id": "d55ca1cc-2376-48ed-a20a-987142303f65",
   "metadata": {},
   "outputs": [
    {
     "name": "stdout",
     "output_type": "stream",
     "text": [
      "3\n"
     ]
    }
   ],
   "source": [
    "label=np.argmax(predicted_target_1)\n",
    "print(label)"
   ]
  },
  {
   "cell_type": "code",
   "execution_count": 6,
   "id": "8dd25e02-fdcb-4930-b5e3-d605258bbd99",
   "metadata": {},
   "outputs": [
    {
     "name": "stdout",
     "output_type": "stream",
     "text": [
      "You are in the Mechatronic Lab\n"
     ]
    }
   ],
   "source": [
    "if label == 0:\n",
    "    print('You are in the Electronic Lab')\n",
    "elif label == 1:\n",
    "    print('You are on the Ground')\n",
    "elif label == 2:\n",
    "    print('You are in the Lecture Room')\n",
    "elif label == 3:\n",
    "    print('You are in the Mechatronic Lab')\n",
    "elif label == 4:\n",
    "    print('You are on the Road')\n",
    "else:\n",
    "    print(\"Sorry, I can't identify your environment\")\n"
   ]
  },
  {
   "cell_type": "code",
   "execution_count": null,
   "id": "1c187c2d-f87b-4a78-8b21-2143d35398cf",
   "metadata": {},
   "outputs": [],
   "source": []
  }
 ],
 "metadata": {
  "kernelspec": {
   "display_name": "Sasa",
   "language": "python",
   "name": "sasa"
  },
  "language_info": {
   "codemirror_mode": {
    "name": "ipython",
    "version": 3
   },
   "file_extension": ".py",
   "mimetype": "text/x-python",
   "name": "python",
   "nbconvert_exporter": "python",
   "pygments_lexer": "ipython3",
   "version": "3.10.14"
  }
 },
 "nbformat": 4,
 "nbformat_minor": 5
}
